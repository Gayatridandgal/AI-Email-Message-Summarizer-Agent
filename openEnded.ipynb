{
  "nbformat": 4,
  "nbformat_minor": 0,
  "metadata": {
    "colab": {
      "provenance": []
    },
    "kernelspec": {
      "name": "python3",
      "display_name": "Python 3"
    },
    "language_info": {
      "name": "python"
    },
    "widgets": {
      "application/vnd.jupyter.widget-state+json": {
        "4e603e0da97a4121bb5319e1a0641f51": {
          "model_module": "@jupyter-widgets/controls",
          "model_name": "TextareaModel",
          "model_module_version": "1.5.0",
          "state": {
            "_dom_classes": [],
            "_model_module": "@jupyter-widgets/controls",
            "_model_module_version": "1.5.0",
            "_model_name": "TextareaModel",
            "_view_count": null,
            "_view_module": "@jupyter-widgets/controls",
            "_view_module_version": "1.5.0",
            "_view_name": "TextareaView",
            "continuous_update": true,
            "description": "Email:",
            "description_tooltip": null,
            "disabled": false,
            "layout": "IPY_MODEL_6c0c8582f14841ee859eff02a2446b58",
            "placeholder": "Paste your email here...",
            "rows": null,
            "style": "IPY_MODEL_b74c5de0f3fd4e27b9c537e602d2e259",
            "value": "Hi John, just reminding you about the client presentation tomorrow at 9 AM.\nPlease bring the finalized sales report. Also, we might need to adjust the Q4 projections."
          }
        },
        "6c0c8582f14841ee859eff02a2446b58": {
          "model_module": "@jupyter-widgets/base",
          "model_name": "LayoutModel",
          "model_module_version": "1.2.0",
          "state": {
            "_model_module": "@jupyter-widgets/base",
            "_model_module_version": "1.2.0",
            "_model_name": "LayoutModel",
            "_view_count": null,
            "_view_module": "@jupyter-widgets/base",
            "_view_module_version": "1.2.0",
            "_view_name": "LayoutView",
            "align_content": null,
            "align_items": null,
            "align_self": null,
            "border": null,
            "bottom": null,
            "display": null,
            "flex": null,
            "flex_flow": null,
            "grid_area": null,
            "grid_auto_columns": null,
            "grid_auto_flow": null,
            "grid_auto_rows": null,
            "grid_column": null,
            "grid_gap": null,
            "grid_row": null,
            "grid_template_areas": null,
            "grid_template_columns": null,
            "grid_template_rows": null,
            "height": "150px",
            "justify_content": null,
            "justify_items": null,
            "left": null,
            "margin": null,
            "max_height": null,
            "max_width": null,
            "min_height": null,
            "min_width": null,
            "object_fit": null,
            "object_position": null,
            "order": null,
            "overflow": null,
            "overflow_x": null,
            "overflow_y": null,
            "padding": null,
            "right": null,
            "top": null,
            "visibility": null,
            "width": "100%"
          }
        },
        "b74c5de0f3fd4e27b9c537e602d2e259": {
          "model_module": "@jupyter-widgets/controls",
          "model_name": "DescriptionStyleModel",
          "model_module_version": "1.5.0",
          "state": {
            "_model_module": "@jupyter-widgets/controls",
            "_model_module_version": "1.5.0",
            "_model_name": "DescriptionStyleModel",
            "_view_count": null,
            "_view_module": "@jupyter-widgets/base",
            "_view_module_version": "1.2.0",
            "_view_name": "StyleView",
            "description_width": ""
          }
        }
      }
    }
  },
  "cells": [
    {
      "cell_type": "code",
      "execution_count": 3,
      "metadata": {
        "id": "imtNrkOdfo8b"
      },
      "outputs": [],
      "source": [
        "# Install Google Generative AI SDK\n",
        "!pip install -q google-generativeai\n"
      ]
    },
    {
      "cell_type": "code",
      "source": [
        "import google.generativeai as genai\n",
        "\n",
        "# Set your Gemini API key\n",
        "GEMINI_API_KEY = \"\"\n",
        "genai.configure(api_key=GEMINI_API_KEY)\n",
        "\n",
        "# Test if it works\n",
        "model = genai.GenerativeModel(\"gemini-2.5-flash\")\n",
        "response = model.generate_content(\"Hello Gemini!\")\n",
        "print(response.text)\n"
      ],
      "metadata": {
        "colab": {
          "base_uri": "https://localhost:8080/",
          "height": 34
        },
        "id": "-shSUBM_fvsD",
        "outputId": "6dbc5ed0-2ee7-4dcd-ed16-db9c44cfcad4"
      },
      "execution_count": 4,
      "outputs": [
        {
          "output_type": "stream",
          "name": "stdout",
          "text": [
            "Hello! I'm Gemini. How can I help you today?\n"
          ]
        }
      ]
    },
    {
      "cell_type": "code",
      "source": [
        "def summarize_email(email_text):\n",
        "    prompt = f\"\"\"\n",
        "    Summarize the following email or message in 3 concise sentences.\n",
        "    Make it clear and professional.\n",
        "\n",
        "    Email:\n",
        "    {email_text}\n",
        "    \"\"\"\n",
        "    model = genai.GenerativeModel(\"gemini-2.5-flash\")\n",
        "    response = model.generate_content(prompt)\n",
        "    return response.text\n"
      ],
      "metadata": {
        "id": "rbhJ2ApDf6qF"
      },
      "execution_count": 5,
      "outputs": []
    },
    {
      "cell_type": "code",
      "source": [
        "sample_email = \"\"\"\n",
        "Hi John, just reminding you about the client presentation tomorrow at 9 AM.\n",
        "Please bring the finalized sales report. Also, we might need to adjust the Q4 projections.\n",
        "\"\"\"\n",
        "print(\"📨 Summary:\\n\", summarize_email(sample_email))\n"
      ],
      "metadata": {
        "colab": {
          "base_uri": "https://localhost:8080/",
          "height": 52
        },
        "id": "gb8thXTYg2UR",
        "outputId": "e2942612-a798-46a1-b45a-8085b3e083f4"
      },
      "execution_count": 6,
      "outputs": [
        {
          "output_type": "stream",
          "name": "stdout",
          "text": [
            "📨 Summary:\n",
            " A client presentation is scheduled for tomorrow at 9 AM. Please bring the finalized sales report to this meeting. Additionally, be prepared to discuss potential adjustments to the Q4 projections.\n"
          ]
        }
      ]
    },
    {
      "cell_type": "code",
      "source": [
        "def generate_quick_reply(email_text):\n",
        "    prompt = f\"\"\"\n",
        "    You are an assistant that writes short, polite, and professional replies.\n",
        "    Read the following email and generate a concise reply in a natural human tone.\n",
        "\n",
        "    Email:\n",
        "    {email_text}\n",
        "    \"\"\"\n",
        "    model = genai.GenerativeModel(\"gemini-2.5-flash\")\n",
        "    response = model.generate_content(prompt)\n",
        "    return response.text\n"
      ],
      "metadata": {
        "id": "QZ8pdb2_g50_"
      },
      "execution_count": 7,
      "outputs": []
    },
    {
      "cell_type": "code",
      "source": [
        "print(\"💡 Suggested Reply:\\n\", generate_quick_reply(sample_email))\n"
      ],
      "metadata": {
        "colab": {
          "base_uri": "https://localhost:8080/",
          "height": 52
        },
        "id": "CrjUaUzyhEHK",
        "outputId": "2a9d1ad2-11c8-447e-df29-dfb69c934e32"
      },
      "execution_count": 8,
      "outputs": [
        {
          "output_type": "stream",
          "name": "stdout",
          "text": [
            "💡 Suggested Reply:\n",
            " Thanks for the reminder. I'll bring the finalized sales report and will be prepared to discuss the Q4 projections.\n"
          ]
        }
      ]
    },
    {
      "cell_type": "code",
      "source": [
        "def classify_email(email_text):\n",
        "    prompt = f\"\"\"\n",
        "    Classify the following email as one of the following categories:\n",
        "    - urgent\n",
        "    - normal\n",
        "    - spam\n",
        "\n",
        "    Only output the category.\n",
        "\n",
        "    Email:\n",
        "    {email_text}\n",
        "    \"\"\"\n",
        "    model = genai.GenerativeModel(\"gemini-2.5-flash\")\n",
        "    response = model.generate_content(prompt)\n",
        "    return response.text.strip().lower()\n"
      ],
      "metadata": {
        "id": "Kfe4x5A3hGbV"
      },
      "execution_count": 13,
      "outputs": []
    },
    {
      "cell_type": "code",
      "source": [
        "print(\"📛 Classification:\", classify_email(sample_email))\n"
      ],
      "metadata": {
        "colab": {
          "base_uri": "https://localhost:8080/",
          "height": 34
        },
        "id": "Q8YoZaG7hNCD",
        "outputId": "bd1e7d94-9c2e-4e45-b2c4-aed139d86f55"
      },
      "execution_count": 14,
      "outputs": [
        {
          "output_type": "stream",
          "name": "stdout",
          "text": [
            "📛 Classification: normal\n"
          ]
        }
      ]
    },
    {
      "cell_type": "code",
      "source": [
        "!pip install ipywidgets --quiet\n",
        "from IPython.display import display\n",
        "import ipywidgets as widgets\n",
        "\n",
        "# Create a text area widget\n",
        "email_box = widgets.Textarea(\n",
        "    value='',\n",
        "    placeholder='Paste your email here...',\n",
        "    description='Email:',\n",
        "    layout=widgets.Layout(width='100%', height='150px')\n",
        ")\n",
        "\n",
        "# Display it\n",
        "display(email_box)\n"
      ],
      "metadata": {
        "colab": {
          "base_uri": "https://localhost:8080/",
          "height": 191,
          "referenced_widgets": [
            "4e603e0da97a4121bb5319e1a0641f51",
            "6c0c8582f14841ee859eff02a2446b58",
            "b74c5de0f3fd4e27b9c537e602d2e259"
          ]
        },
        "id": "jYgVvnyRhP-E",
        "outputId": "75ca110a-6710-4efe-8887-41d7e37611d5"
      },
      "execution_count": 15,
      "outputs": [
        {
          "output_type": "display_data",
          "data": {
            "text/plain": [
              "Textarea(value='', description='Email:', layout=Layout(height='150px', width='100%'), placeholder='Paste your …"
            ],
            "application/vnd.jupyter.widget-view+json": {
              "version_major": 2,
              "version_minor": 0,
              "model_id": "4e603e0da97a4121bb5319e1a0641f51"
            }
          },
          "metadata": {}
        }
      ]
    },
    {
      "cell_type": "code",
      "source": [
        "# After typing/pasting in the box, run this cell:\n",
        "email_text = email_box.value\n",
        "\n",
        "print(\"📨 Summary:\\n\", summarize_email(email_text))\n",
        "print(\"\\n💬 Suggested Reply:\\n\", generate_quick_reply(email_text))\n",
        "print(\"\\n🏷️ Classification:\\n\", classify_email(email_text))\n"
      ],
      "metadata": {
        "colab": {
          "base_uri": "https://localhost:8080/",
          "height": 245
        },
        "id": "b7KWUf-Nhdns",
        "outputId": "cebcd3e1-2267-42cd-eec1-ab805b66beec"
      },
      "execution_count": 16,
      "outputs": [
        {
          "output_type": "stream",
          "name": "stdout",
          "text": [
            "📨 Summary:\n",
            " This email is a reminder for the client presentation scheduled for tomorrow at 9 AM. Please remember to bring the finalized sales report to the meeting. We also need to be prepared to discuss potential adjustments to the Q4 projections.\n",
            "\n",
            "💬 Suggested Reply:\n",
            " Thanks for the reminder!\n",
            "\n",
            "I'll be sure to bring the finalized sales report tomorrow at 9 AM. Noted on the Q4 projections – I'll be ready to discuss any adjustments.\n",
            "\n",
            "See you then.\n",
            "\n",
            "🏷️ Classification:\n",
            " urgent\n"
          ]
        }
      ]
    },
    {
      "cell_type": "code",
      "source": [],
      "metadata": {
        "id": "hnn_XhmTh6IW"
      },
      "execution_count": null,
      "outputs": []
    }
  ]
}